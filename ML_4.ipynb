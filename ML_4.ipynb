{
 "cells": [
  {
   "cell_type": "code",
   "execution_count": null,
   "metadata": {},
   "outputs": [],
   "source": [
    "%matplotlib inline\n",
    "import numpy as np\n",
    "import pandas as pd\n",
    "import matplotlib.pyplot as plt"
   ]
  },
  {
   "cell_type": "code",
   "execution_count": null,
   "metadata": {},
   "outputs": [],
   "source": [
    "from sklearn.datasets import load_digits\n",
    "\n",
    "digits = load_digits(n_class=6)\n",
    "X, y = digits.data, digits.target"
   ]
  },
  {
   "cell_type": "code",
   "execution_count": null,
   "metadata": {},
   "outputs": [],
   "source": [
    "fig, axs = plt.subplots(nrows=10, ncols=10, figsize=(6, 6))\n",
    "for idx, ax in enumerate(axs.ravel()):\n",
    "    ax.imshow(X[idx].reshape((8, 8)), cmap=plt.cm.binary)\n",
    "    ax.axis(\"off\")"
   ]
  },
  {
   "cell_type": "code",
   "execution_count": null,
   "metadata": {},
   "outputs": [],
   "source": [
    "from matplotlib import offsetbox\n",
    "from sklearn.preprocessing import MinMaxScaler\n",
    "\n",
    "\n",
    "def plot_embedding(X, title, ax):\n",
    "    X = MinMaxScaler().fit_transform(X)\n",
    "    for digit in digits.target_names:\n",
    "        ax.scatter(\n",
    "            *X[y == digit].T,\n",
    "            marker=f\"${digit}$\",\n",
    "            s=60,\n",
    "            color=plt.cm.Dark2(digit),\n",
    "            alpha=0.325,\n",
    "            zorder=2,\n",
    "        )\n",
    "    shown_images = np.array([[1.0, 1.0]])  # just something big\n",
    "    for i in range(X.shape[0]):\n",
    "        # plot every digit on the embedding\n",
    "        # show an annotation box for a group of digits\n",
    "        dist = np.sum((X[i] - shown_images) ** 2, 1)\n",
    "        if np.min(dist) < 4e-3:\n",
    "            # don't show points that are too close\n",
    "            continue\n",
    "        shown_images = np.concatenate([shown_images, [X[i]]], axis=0)\n",
    "        imagebox = offsetbox.AnnotationBbox(\n",
    "            offsetbox.OffsetImage(digits.images[i], cmap=plt.cm.gray_r), X[i]\n",
    "        )\n",
    "        imagebox.set(zorder=1)\n",
    "        ax.add_artist(imagebox)\n",
    "\n",
    "    ax.set_title(title)\n",
    "    ax.axis(\"off\")"
   ]
  },
  {
   "cell_type": "code",
   "execution_count": null,
   "metadata": {},
   "outputs": [],
   "source": [
    "from sklearn.manifold import TSNE"
   ]
  },
  {
   "cell_type": "code",
   "execution_count": null,
   "metadata": {},
   "outputs": [],
   "source": [
    "%%time\n",
    "tsne = TSNE()\n",
    "X_tsne  = tsne.fit_transform(X)"
   ]
  },
  {
   "cell_type": "code",
   "execution_count": null,
   "metadata": {},
   "outputs": [],
   "source": [
    "fig = plt.figure(figsize=(12, 12))\n",
    "ax = fig.add_subplot()\n",
    "plot_embedding(X_tsne, 'tsne', ax)\n",
    "plt.show()"
   ]
  },
  {
   "cell_type": "code",
   "execution_count": null,
   "metadata": {},
   "outputs": [],
   "source": []
  },
  {
   "cell_type": "code",
   "execution_count": null,
   "metadata": {},
   "outputs": [],
   "source": [
    "from sklearn.manifold import MDS"
   ]
  },
  {
   "cell_type": "code",
   "execution_count": null,
   "metadata": {},
   "outputs": [],
   "source": [
    "%%time\n",
    "mds = MDS()\n",
    "X_mds = mds.fit_transform(X)"
   ]
  },
  {
   "cell_type": "code",
   "execution_count": null,
   "metadata": {},
   "outputs": [],
   "source": [
    "fig = plt.figure(figsize=(12, 12))\n",
    "ax = fig.add_subplot()\n",
    "plot_embedding(X_mds, 'mds', ax)\n",
    "plt.show()"
   ]
  },
  {
   "cell_type": "code",
   "execution_count": null,
   "metadata": {},
   "outputs": [],
   "source": []
  },
  {
   "cell_type": "code",
   "execution_count": null,
   "metadata": {},
   "outputs": [],
   "source": [
    "import umap"
   ]
  },
  {
   "cell_type": "markdown",
   "metadata": {},
   "source": [
    "https://github.com/lmcinnes/umap"
   ]
  },
  {
   "cell_type": "code",
   "execution_count": null,
   "metadata": {},
   "outputs": [],
   "source": [
    "%%time\n",
    "X_umap = umap.UMAP(n_neighbors=5,min_dist=0.3, metric='correlation', random_state=42).fit_transform(X)"
   ]
  },
  {
   "cell_type": "code",
   "execution_count": null,
   "metadata": {},
   "outputs": [],
   "source": [
    "fig = plt.figure(figsize=(12, 12))\n",
    "ax = fig.add_subplot()\n",
    "plot_embedding(X_umap, 'umap', ax)\n",
    "plt.show()"
   ]
  },
  {
   "cell_type": "code",
   "execution_count": null,
   "metadata": {},
   "outputs": [],
   "source": []
  },
  {
   "cell_type": "code",
   "execution_count": null,
   "metadata": {},
   "outputs": [],
   "source": []
  },
  {
   "cell_type": "code",
   "execution_count": null,
   "metadata": {},
   "outputs": [],
   "source": []
  },
  {
   "cell_type": "code",
   "execution_count": null,
   "metadata": {},
   "outputs": [],
   "source": [
    "from sklearn.cluster import KMeans\n",
    "\n",
    "np.random.seed(123)\n",
    "X1 = np.random.randn(100,2)\n",
    "X2 = np.random.randn(100,2) - np.array([10,1])\n",
    "X3 = np.random.randn(100,2) - np.array([1,10])\n",
    "X = np.vstack((X1,X2,X3))\n",
    "y = np.array([1]*100 + [2]*100 + [3]*100)"
   ]
  },
  {
   "cell_type": "code",
   "execution_count": null,
   "metadata": {},
   "outputs": [],
   "source": [
    "k_means = KMeans(n_clusters = 3)\n",
    "k_means = k_means.fit(X)\n",
    "clusters = k_means.predict(X)\n",
    "plt.scatter(X[:,0], X[:,1], c = clusters)\n",
    "plt.title('K-means clustering')\n",
    "plt.show()"
   ]
  },
  {
   "cell_type": "code",
   "execution_count": null,
   "metadata": {},
   "outputs": [],
   "source": [
    "plt.figure(figsize= (15,8))\n",
    "for n_c in range(2,8):\n",
    "    k_means = KMeans(n_clusters = n_c)\n",
    "    k_means = k_means.fit(X)\n",
    "    clusters = k_means.predict(X)\n",
    "    plt.subplot(2,3,n_c - 1)\n",
    "    plt.scatter(X[:,0], X[:,1], c = clusters)\n",
    "    plt.title('n_clusters = {}'.format(n_c))\n",
    "\n",
    "plt.show()"
   ]
  },
  {
   "cell_type": "code",
   "execution_count": null,
   "metadata": {},
   "outputs": [],
   "source": []
  },
  {
   "cell_type": "code",
   "execution_count": null,
   "metadata": {},
   "outputs": [],
   "source": [
    "from sklearn.cluster import DBSCAN\n",
    "plt.figure(figsize= (15,23))\n",
    "i = 1\n",
    "for samples in [2, 5, 40]:\n",
    "    for e in [0.2, 1, 3, 5, 10]:\n",
    "        dbscan = DBSCAN(eps=e, min_samples=samples)\n",
    "        clusters = dbscan.fit_predict(X)\n",
    "        plt.subplot(6, 3, i)\n",
    "        plt.scatter(X[:,0], X[:,1], c = clusters)\n",
    "        plt.title('eps = {}, min_samples = {}'.format(e, samples))\n",
    "        i += 1\n",
    "    i+=1\n",
    "\n",
    "plt.show()"
   ]
  },
  {
   "cell_type": "code",
   "execution_count": null,
   "metadata": {},
   "outputs": [],
   "source": []
  },
  {
   "cell_type": "code",
   "execution_count": null,
   "metadata": {},
   "outputs": [],
   "source": [
    "outlier_percentage = 1.\n",
    "\n",
    "num_clusters = []\n",
    "anomaly_percentage = []\n",
    "\n",
    "eps = 0.05\n",
    "eps_history = [eps]\n",
    "\n",
    "while outlier_percentage > 0.1:    \n",
    "    model = DBSCAN(eps=eps).fit(X)\n",
    "    \n",
    "    labels = model.labels_\n",
    "    num_clusters.append(len(np.unique(labels))-1)\n",
    "    labels = np.array([1 if label == -1 else 0 for label in labels])\n",
    "    \n",
    "    outlier_percentage = sum(labels==1) / len(labels)    \n",
    "    eps += 0.05\n",
    "    eps_history.append(eps)\n",
    "    anomaly_percentage.append(outlier_percentage)"
   ]
  },
  {
   "cell_type": "code",
   "execution_count": null,
   "metadata": {},
   "outputs": [],
   "source": [
    "iterations = eps_history[:-1]\n",
    "\n",
    "fig, ax1 = plt.subplots(figsize=(8,5))\n",
    "color = 'tab:red'\n",
    "ax1.set_xlabel('epsilon')\n",
    "ax1.set_ylabel('Число кластеров', color=color)\n",
    "ax1.plot(iterations, num_clusters, color=color)\n",
    "ax1.tick_params(axis='y', labelcolor=color)\n",
    "\n",
    "ax2 = ax1.twinx()\n",
    "\n",
    "color = 'tab:blue'\n",
    "ax2.set_ylabel('Процент аномалий', color=color)\n",
    "ax2.plot(iterations, anomaly_percentage, color=color)\n",
    "ax2.tick_params(axis='y', labelcolor=color)\n",
    "\n",
    "fig.tight_layout() \n",
    "plt.show()"
   ]
  },
  {
   "cell_type": "code",
   "execution_count": null,
   "metadata": {},
   "outputs": [],
   "source": []
  },
  {
   "cell_type": "code",
   "execution_count": null,
   "metadata": {},
   "outputs": [],
   "source": []
  },
  {
   "cell_type": "code",
   "execution_count": null,
   "metadata": {},
   "outputs": [],
   "source": []
  },
  {
   "cell_type": "code",
   "execution_count": null,
   "metadata": {},
   "outputs": [],
   "source": [
    "from scipy.cluster.hierarchy import dendrogram\n",
    "from sklearn.datasets import load_iris\n",
    "from sklearn.cluster import AgglomerativeClustering\n",
    "\n",
    "def plot_dendrogram(model, **kwargs):\n",
    "\n",
    "    # Children of hierarchical clustering\n",
    "    children = model.children_\n",
    "\n",
    "    # Distances between each pair of children\n",
    "    # Since we don't have this information, we can use a uniform one for plotting\n",
    "    distance = np.arange(children.shape[0])\n",
    "\n",
    "    # The number of observations contained in each cluster level\n",
    "    no_of_observations = np.arange(2, children.shape[0]+2)\n",
    "\n",
    "    # Create linkage matrix and then plot the dendrogram\n",
    "    linkage_matrix = np.column_stack([children, distance, no_of_observations]).astype(float)\n",
    "\n",
    "    # Plot the corresponding dendrogram\n",
    "    dendrogram(linkage_matrix, **kwargs)\n",
    "\n",
    "\n",
    "iris = load_iris()\n",
    "X = iris.data[:20]\n",
    "model = AgglomerativeClustering(n_clusters=3)\n",
    "\n",
    "model = model.fit(X)\n",
    "plt.figure(figsize=(16,7))\n",
    "plot_dendrogram(model, labels=model.labels_)\n",
    "plt.title('Hierarchical Clustering Dendrogram')\n",
    "plt.show()"
   ]
  },
  {
   "cell_type": "code",
   "execution_count": null,
   "metadata": {},
   "outputs": [],
   "source": [
    "#from sklearn.datasets import load_boston\n",
    "from sklearn.linear_model import LinearRegression\n",
    "from scipy.stats import pearsonr\n",
    "\n",
    "data = pd.read_csv('boston.csv')\n",
    "X = data.drop(columns=['MEDV'])\n",
    "y = data['MEDV']\n",
    "#ds = load_boston()\n",
    "#X, y = ds.data, ds.target\n",
    "indexes = np.arange(len(y))\n",
    "np.random.seed(52342)\n",
    "np.random.shuffle(indexes)\n",
    "X = X.loc[indexes]\n",
    "y = y[indexes]\n",
    "\n",
    "features_ind = np.arange(X.shape[1])\n",
    "corrs = np.abs([pearsonr(X.iloc[:, i], y)[0] for i in features_ind])\n",
    "importances_sort = np.argsort(corrs)\n",
    "fig = plt.figure(figsize=(16,8))\n",
    "plt.barh(features_ind, corrs[importances_sort])\n",
    "plt.xlabel('importance', fontsize=20)\n",
    "X = X.iloc[:, importances_sort]"
   ]
  },
  {
   "cell_type": "code",
   "execution_count": null,
   "metadata": {},
   "outputs": [],
   "source": [
    "from sklearn.model_selection import cross_val_score\n",
    "from sklearn.linear_model import LinearRegression\n",
    "from sklearn.ensemble import RandomForestRegressor\n",
    "\n",
    "features_counts = np.arange(X.shape[1])\n",
    "\n",
    "def scores_by_features_count(reg):\n",
    "    scores = []\n",
    "    for features_part in features_counts:\n",
    "        X_part = X.iloc[:,importances_sort[features_part:]]\n",
    "        scores.append(cross_val_score(reg, X_part, y).mean())\n",
    "    return scores\n",
    "\n",
    "linreg_scores = scores_by_features_count(LinearRegression())\n",
    "rf_scores = scores_by_features_count(RandomForestRegressor(n_estimators=100, max_depth=3))"
   ]
  },
  {
   "cell_type": "code",
   "execution_count": null,
   "metadata": {},
   "outputs": [],
   "source": [
    "plt.figure(figsize=(16,8))\n",
    "\n",
    "plt.plot(features_counts, linreg_scores, label='LinearRegression')\n",
    "plt.plot(features_counts, rf_scores, label='RandomForest')\n",
    "plt.legend(loc='best', fontsize=20)\n",
    "plt.xlabel('#features deleted', fontsize=20)\n",
    "plt.ylabel('$R^2$', fontsize=20)\n",
    "plt.grid()"
   ]
  },
  {
   "cell_type": "code",
   "execution_count": null,
   "metadata": {},
   "outputs": [],
   "source": []
  },
  {
   "cell_type": "code",
   "execution_count": null,
   "metadata": {},
   "outputs": [],
   "source": []
  },
  {
   "cell_type": "code",
   "execution_count": null,
   "metadata": {},
   "outputs": [],
   "source": []
  },
  {
   "cell_type": "code",
   "execution_count": null,
   "metadata": {},
   "outputs": [],
   "source": [
    "from sklearn.decomposition import PCA"
   ]
  },
  {
   "cell_type": "code",
   "execution_count": null,
   "metadata": {},
   "outputs": [],
   "source": [
    "digits = load_digits()\n",
    "X = digits.data\n",
    "y = digits.target\n",
    "X.shape"
   ]
  },
  {
   "cell_type": "code",
   "execution_count": null,
   "metadata": {},
   "outputs": [],
   "source": [
    "pca = PCA().fit(X)\n",
    "\n",
    "plt.figure(figsize=(10,7))\n",
    "plt.plot(np.cumsum(pca.explained_variance_ratio_), color='k', lw=2)\n",
    "plt.xlabel('Number of components')\n",
    "plt.ylabel('Total explained variance')\n",
    "plt.xlim(0, 63)\n",
    "plt.yticks(np.arange(0, 1.1, 0.1))\n",
    "plt.axvline(20, c='b')\n",
    "plt.axhline(0.9, c='r')\n",
    "plt.show()"
   ]
  },
  {
   "cell_type": "code",
   "execution_count": null,
   "metadata": {},
   "outputs": [],
   "source": []
  }
 ],
 "metadata": {
  "kernelspec": {
   "display_name": "Python 3",
   "language": "python",
   "name": "python3"
  },
  "language_info": {
   "codemirror_mode": {
    "name": "ipython",
    "version": 3
   },
   "file_extension": ".py",
   "mimetype": "text/x-python",
   "name": "python",
   "nbconvert_exporter": "python",
   "pygments_lexer": "ipython3",
   "version": "3.11.6"
  }
 },
 "nbformat": 4,
 "nbformat_minor": 2
}
